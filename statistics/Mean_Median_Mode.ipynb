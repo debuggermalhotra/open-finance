{
 "cells": [
  {
   "cell_type": "code",
   "execution_count": 1,
   "metadata": {},
   "outputs": [],
   "source": [
    "import scipy.stats as stats\n",
    "import numpy as np\n",
    "import libkloudtrader.stocks as stocks"
   ]
  },
  {
   "cell_type": "code",
   "execution_count": 6,
   "metadata": {},
   "outputs": [
    {
     "data": {
      "text/html": [
       "<div>\n",
       "<style scoped>\n",
       "    .dataframe tbody tr th:only-of-type {\n",
       "        vertical-align: middle;\n",
       "    }\n",
       "\n",
       "    .dataframe tbody tr th {\n",
       "        vertical-align: top;\n",
       "    }\n",
       "\n",
       "    .dataframe thead th {\n",
       "        text-align: right;\n",
       "    }\n",
       "</style>\n",
       "<table border=\"1\" class=\"dataframe\">\n",
       "  <thead>\n",
       "    <tr style=\"text-align: right;\">\n",
       "      <th></th>\n",
       "      <th>open</th>\n",
       "      <th>high</th>\n",
       "      <th>low</th>\n",
       "      <th>close</th>\n",
       "      <th>volume</th>\n",
       "    </tr>\n",
       "    <tr>\n",
       "      <th>date</th>\n",
       "      <th></th>\n",
       "      <th></th>\n",
       "      <th></th>\n",
       "      <th></th>\n",
       "      <th></th>\n",
       "    </tr>\n",
       "  </thead>\n",
       "  <tbody>\n",
       "    <tr>\n",
       "      <th>2019-01-02</th>\n",
       "      <td>154.89</td>\n",
       "      <td>158.8500</td>\n",
       "      <td>154.23</td>\n",
       "      <td>157.92</td>\n",
       "      <td>37039737</td>\n",
       "    </tr>\n",
       "    <tr>\n",
       "      <th>2019-01-03</th>\n",
       "      <td>143.98</td>\n",
       "      <td>145.7200</td>\n",
       "      <td>142.00</td>\n",
       "      <td>142.19</td>\n",
       "      <td>91312195</td>\n",
       "    </tr>\n",
       "    <tr>\n",
       "      <th>2019-01-04</th>\n",
       "      <td>144.53</td>\n",
       "      <td>148.5499</td>\n",
       "      <td>143.80</td>\n",
       "      <td>148.26</td>\n",
       "      <td>58607070</td>\n",
       "    </tr>\n",
       "    <tr>\n",
       "      <th>2019-01-07</th>\n",
       "      <td>148.70</td>\n",
       "      <td>148.8300</td>\n",
       "      <td>145.90</td>\n",
       "      <td>147.93</td>\n",
       "      <td>54777764</td>\n",
       "    </tr>\n",
       "    <tr>\n",
       "      <th>2019-01-08</th>\n",
       "      <td>149.56</td>\n",
       "      <td>151.8200</td>\n",
       "      <td>148.52</td>\n",
       "      <td>150.75</td>\n",
       "      <td>41025314</td>\n",
       "    </tr>\n",
       "    <tr>\n",
       "      <th>2019-01-09</th>\n",
       "      <td>151.29</td>\n",
       "      <td>154.5300</td>\n",
       "      <td>149.63</td>\n",
       "      <td>153.31</td>\n",
       "      <td>45099081</td>\n",
       "    </tr>\n",
       "    <tr>\n",
       "      <th>2019-01-10</th>\n",
       "      <td>152.50</td>\n",
       "      <td>153.9700</td>\n",
       "      <td>150.86</td>\n",
       "      <td>153.80</td>\n",
       "      <td>35780670</td>\n",
       "    </tr>\n",
       "    <tr>\n",
       "      <th>2019-01-11</th>\n",
       "      <td>152.88</td>\n",
       "      <td>153.7000</td>\n",
       "      <td>151.51</td>\n",
       "      <td>152.29</td>\n",
       "      <td>27023241</td>\n",
       "    </tr>\n",
       "    <tr>\n",
       "      <th>2019-01-14</th>\n",
       "      <td>150.85</td>\n",
       "      <td>151.2700</td>\n",
       "      <td>149.22</td>\n",
       "      <td>150.00</td>\n",
       "      <td>32439186</td>\n",
       "    </tr>\n",
       "    <tr>\n",
       "      <th>2019-01-15</th>\n",
       "      <td>150.27</td>\n",
       "      <td>153.3900</td>\n",
       "      <td>150.05</td>\n",
       "      <td>153.07</td>\n",
       "      <td>28710324</td>\n",
       "    </tr>\n",
       "  </tbody>\n",
       "</table>\n",
       "</div>"
      ],
      "text/plain": [
       "              open      high     low   close    volume\n",
       "date                                                  \n",
       "2019-01-02  154.89  158.8500  154.23  157.92  37039737\n",
       "2019-01-03  143.98  145.7200  142.00  142.19  91312195\n",
       "2019-01-04  144.53  148.5499  143.80  148.26  58607070\n",
       "2019-01-07  148.70  148.8300  145.90  147.93  54777764\n",
       "2019-01-08  149.56  151.8200  148.52  150.75  41025314\n",
       "2019-01-09  151.29  154.5300  149.63  153.31  45099081\n",
       "2019-01-10  152.50  153.9700  150.86  153.80  35780670\n",
       "2019-01-11  152.88  153.7000  151.51  152.29  27023241\n",
       "2019-01-14  150.85  151.2700  149.22  150.00  32439186\n",
       "2019-01-15  150.27  153.3900  150.05  153.07  28710324"
      ]
     },
     "execution_count": 6,
     "metadata": {},
     "output_type": "execute_result"
    }
   ],
   "source": [
    "data=stocks.ohlcv('aapl','2019-01-01','2019-07-07')\n",
    "data.head(10)"
   ]
  },
  {
   "cell_type": "markdown",
   "metadata": {},
   "source": [
    "## Arithmetic Mean"
   ]
  },
  {
   "cell_type": "code",
   "execution_count": 5,
   "metadata": {},
   "outputs": [
    {
     "data": {
      "text/plain": [
       "183.13007812500004"
      ]
     },
     "execution_count": 5,
     "metadata": {},
     "output_type": "execute_result"
    }
   ],
   "source": [
    "np.mean(data['close'])"
   ]
  },
  {
   "cell_type": "markdown",
   "metadata": {},
   "source": [
    "## Geometric Mean"
   ]
  },
  {
   "cell_type": "code",
   "execution_count": 8,
   "metadata": {},
   "outputs": [
    {
     "data": {
      "text/plain": [
       "182.30077615247066"
      ]
     },
     "execution_count": 8,
     "metadata": {},
     "output_type": "execute_result"
    }
   ],
   "source": [
    "stats.gmean(data['close'])"
   ]
  },
  {
   "cell_type": "code",
   "execution_count": null,
   "metadata": {},
   "outputs": [],
   "source": []
  }
 ],
 "metadata": {
  "kernelspec": {
   "display_name": "Python 3",
   "language": "python",
   "name": "python3"
  },
  "language_info": {
   "codemirror_mode": {
    "name": "ipython",
    "version": 3
   },
   "file_extension": ".py",
   "mimetype": "text/x-python",
   "name": "python",
   "nbconvert_exporter": "python",
   "pygments_lexer": "ipython3",
   "version": "3.7.3"
  }
 },
 "nbformat": 4,
 "nbformat_minor": 2
}
